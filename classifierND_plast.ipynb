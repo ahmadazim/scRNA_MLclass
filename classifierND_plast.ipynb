{
 "cells": [
  {
   "cell_type": "markdown",
   "metadata": {},
   "source": [
    "# Classifying cell types based on organelle gene expression profiles"
   ]
  },
  {
   "cell_type": "markdown",
   "metadata": {},
   "source": [
    "A machine learning model was developed to classify cell types based solely on plastid gene expression profiles. This work is part of a larger research study: Using Single-cell RNA Sequencing Data to Study Plastid Differentiation Dynamics with Nucleus-Encoded Gene Expression in *Arabidopsis thaliana*. The high accuracy of this model (>96%) suggests that each cell type houses a distinctive plastid type."
   ]
  },
  {
   "cell_type": "code",
   "execution_count": 19,
   "metadata": {},
   "outputs": [],
   "source": [
    "# modules to import \n",
    "\n",
    "import os\n",
    "import tensorflow as tf\n",
    "import pandas as pd\n",
    "import numpy as np\n",
    "from sklearn.preprocessing import MinMaxScaler\n",
    "from sklearn.preprocessing import LabelEncoder\n",
    "from sklearn.preprocessing import OneHotEncoder\n",
    "\n",
    "from matplotlib import pyplot as plt\n",
    "import math\n",
    "\n",
    "# Turn off TensorFlow warning messages in program output\n",
    "os.environ['TF_CPP_MIN_LOG_LEVEL'] = '2'"
   ]
  },
  {
   "cell_type": "code",
   "execution_count": 20,
   "metadata": {},
   "outputs": [],
   "source": [
    "# Read in data\n",
    "training_data_df = pd.read_csv(\"./trnDataND.csv\")\n",
    "validation_data_df = pd.read_csv(\"./valDataND.csv\")\n",
    "testing_data_df = pd.read_csv(\"./tstDataND.csv\")"
   ]
  },
  {
   "cell_type": "code",
   "execution_count": 21,
   "metadata": {},
   "outputs": [],
   "source": [
    "Y_train = training_data_df[['ct']].values  # (5256, 1)\n",
    "Features_train = training_data_df.drop('ct', axis=1).values\n",
    "\n",
    "Y_validation = validation_data_df[['ct']].values # (1502, 1)\n",
    "Features_validation = validation_data_df.drop('ct', axis=1).values\n",
    "\n",
    "Y_test = testing_data_df[['ct']].values  # (751, 1)\n",
    "Features_test = testing_data_df.drop('ct', axis=1).values"
   ]
  },
  {
   "cell_type": "code",
   "execution_count": 22,
   "metadata": {},
   "outputs": [
    {
     "name": "stdout",
     "output_type": "stream",
     "text": [
      "[['A']\n",
      " ['A']\n",
      " ['B']\n",
      " ['C']\n",
      " ['A']\n",
      " ['B']\n",
      " ['C']]\n",
      "(7, 1)\n",
      "[[1. 0. 0.]\n",
      " [1. 0. 0.]\n",
      " [0. 1. 0.]\n",
      " [0. 0. 1.]\n",
      " [1. 0. 0.]\n",
      " [0. 1. 0.]\n",
      " [0. 0. 1.]]\n",
      "[[1. 0. 0.]\n",
      " [1. 0. 0.]\n",
      " [0. 0. 1.]\n",
      " [0. 0. 0.]]\n"
     ]
    }
   ],
   "source": [
    "## ===================================\n",
    "## Example for using one-hot-encoder\n",
    "## ===================================\n",
    "values = np.array([['A', 'A', 'B', 'C', 'A', 'B', 'C']]).transpose()\n",
    "print(values)\n",
    "print(values.shape)\n",
    "\n",
    "# help(OneHotEncoder)\n",
    "\n",
    "# Creat the encoder once\n",
    "enc = OneHotEncoder(sparse=False, handle_unknown='ignore')\n",
    "enc.fit(values)\n",
    "\n",
    "# Use the encoder multiple times\n",
    "Labels_1 = enc.transform(values)\n",
    "print(Labels_1)\n",
    "\n",
    "values2 = np.array([['A', 'A', 'C', 'D']]).transpose() # 2nd set of values\n",
    "Labels_2 = enc.transform(values2) # transform directly \n",
    "print(Labels_2)\n"
   ]
  },
  {
   "cell_type": "code",
   "execution_count": 24,
   "metadata": {
    "scrolled": true
   },
   "outputs": [
    {
     "name": "stdout",
     "output_type": "stream",
     "text": [
      "Train:  (4942, 9)\n",
      "Validation:  (1412, 9)\n",
      "Test:  (706, 9)\n",
      "['x0_Cortex' 'x0_Endodermis' 'x0_Hair Cells' 'x0_Meristem'\n",
      " 'x0_Non Hair Cells' 'x0_Phloem' 'x0_Root Cap Cells' 'x0_Stele' 'x0_Xylem']\n",
      "[['Stele']\n",
      " ['Non Hair Cells']\n",
      " ['Root Cap Cells']\n",
      " ['Endodermis']\n",
      " ['Hair Cells']]\n",
      "[[0. 0. 0. 0. 0. 0. 0. 1. 0.]\n",
      " [0. 0. 0. 0. 1. 0. 0. 0. 0.]\n",
      " [0. 0. 0. 0. 0. 0. 1. 0. 0.]\n",
      " [0. 1. 0. 0. 0. 0. 0. 0. 0.]\n",
      " [0. 0. 1. 0. 0. 0. 0. 0. 0.]]\n"
     ]
    }
   ],
   "source": [
    "# Use training labels to creat the encoder\n",
    "enc = OneHotEncoder(sparse=False, handle_unknown='ignore')\n",
    "enc.fit(Y_train)\n",
    "\n",
    "# Use the encoder to transform all labels\n",
    "Labels_train = enc.transform(Y_train)\n",
    "print(\"Train: \", Labels_train.shape)\n",
    "\n",
    "Labels_validation = enc.transform(Y_validation) # transform directly \n",
    "print(\"Validation: \", Labels_validation.shape)\n",
    "\n",
    "Labels_test = enc.transform(Y_test) # transform directly\n",
    "print(\"Test: \", Labels_test.shape)\n",
    "\n",
    "print(enc.get_feature_names())  # to get categories in encoding order\n",
    "print(Y_train[5:10, :])\n",
    "print(Labels_train[5:10, :])"
   ]
  },
  {
   "cell_type": "code",
   "execution_count": 25,
   "metadata": {},
   "outputs": [],
   "source": [
    "# Define model parameters\n",
    "\n",
    "momentum = 0\n",
    "decay = 0.9\n",
    "learning_rate = 0.15\n",
    "training_epochs = 5000\n",
    "batch_size = 1000\n",
    "display_step = 1  ## can change that to display less steps\n",
    "num_examples = Labels_train.shape[0]\n",
    "\n",
    "# Define how many inputs and outputs are in our neural network\n",
    "number_of_inputs = Features_train.shape[1]\n",
    "number_of_outputs = Labels_train.shape[1]\n",
    "\n",
    "# Define how many neurons we want in each layer of our neural network\n",
    "layer_1_nodes = number_of_inputs\n",
    "layer_2_nodes = 400\n",
    "layer_3_nodes = 100\n",
    "layer_4_nodes = number_of_outputs*2"
   ]
  },
  {
   "cell_type": "code",
   "execution_count": 26,
   "metadata": {},
   "outputs": [],
   "source": [
    "## Function to construct a layer --\n",
    "def layer(input, weight_shape, bias_shape ):\n",
    "    weight_stddev = (2.0/weight_shape[0])**0.5\n",
    "    w_init = tf.random_normal_initializer(stddev=weight_stddev)\n",
    "    bias_init = tf.constant_initializer(value=0)\n",
    "    W = tf.get_variable(\"W\", weight_shape, initializer=w_init)\n",
    "    b = tf.get_variable(\"b\", bias_shape, initializer=bias_init)\n",
    "    return tf.nn.relu(tf.matmul(input, W) + b)"
   ]
  },
  {
   "cell_type": "code",
   "execution_count": 27,
   "metadata": {},
   "outputs": [],
   "source": [
    "## Inference: Produce a probability dist over the output classes given a minibatch\n",
    "def inference(x):\n",
    "    with tf.variable_scope(\"hidden_1\"):\n",
    "        hidden_1 = layer(x, [number_of_inputs, layer_1_nodes], [layer_1_nodes])\n",
    "    with tf.variable_scope(\"hidden_2\"):\n",
    "        hidden_2 = layer(hidden_1, [layer_1_nodes, layer_2_nodes], [layer_2_nodes])\n",
    "    with tf.variable_scope(\"hidden_3\"):\n",
    "        hidden_3 = layer(hidden_2, [layer_2_nodes, layer_3_nodes], [layer_3_nodes])\n",
    "    with tf.variable_scope(\"hidden_4\"):\n",
    "        hidden_4 = layer(hidden_3, [layer_3_nodes, layer_4_nodes], [layer_4_nodes])\n",
    "    with tf.variable_scope(\"output\"):\n",
    "        output = layer(hidden_4, [layer_4_nodes, number_of_outputs], [number_of_outputs])\n",
    "    return output"
   ]
  },
  {
   "cell_type": "code",
   "execution_count": 28,
   "metadata": {},
   "outputs": [],
   "source": [
    "## Get cross-entopy loss given correct labels of a minibatch\n",
    "def loss(output, y):\n",
    "    xentropy = tf.nn.softmax_cross_entropy_with_logits(logits=output, labels=y)\n",
    "    loss = tf.reduce_mean(xentropy)\n",
    "    return loss"
   ]
  },
  {
   "cell_type": "code",
   "execution_count": 29,
   "metadata": {},
   "outputs": [],
   "source": [
    "## Training: responsible for computing the gradients of the model parameters\n",
    "## and updating the model. We use built-in optimizers that produce a training operation\n",
    "## that we can run via a tf session to minimize model parameters.\n",
    "def training(cost, global_step):\n",
    "    tf.summary.scalar(\"cost\", cost)\n",
    "    optimizer = tf.train.GradientDescentOptimizer(learning_rate)\n",
    "    #optimizer = tf.train.MomentumOptimizer(learning_rate, momentum)\n",
    "    #optimizer = tf.train.RMSPropOptimizer(learning_rate, decay, momentum, epsilon=1e-10, use_locking=False, name='RMSProp')\n",
    "    #optimizer = tf.train.AdamOptimizer(learning_rate, beta1=0.9, beta2=0.999, epsilon=1e-8, use_locking=False, name='Adam')\n",
    "    train_op = optimizer.minimize(cost, global_step=global_step)\n",
    "    return train_op\n"
   ]
  },
  {
   "cell_type": "code",
   "execution_count": 30,
   "metadata": {},
   "outputs": [],
   "source": [
    "## Simple computational subgraph to evaluate the model on the validation or test set\n",
    "def evaluate(output, y):\n",
    "    correct_prediction = tf.equal(tf.argmax(output, 1), tf.argmax(y, 1))\n",
    "    accuracy = tf.reduce_mean(tf.cast(correct_prediction, tf.float32))\n",
    "    return accuracy"
   ]
  },
  {
   "cell_type": "code",
   "execution_count": 31,
   "metadata": {},
   "outputs": [],
   "source": [
    "def evaluate_pc(output, y):\n",
    "    acc, acc_op = tf.metrics.mean_per_class_accuracy(labels=tf.argmax(y, 1), predictions=tf.argmax(output,1), num_classes = number_of_outputs)\n",
    "    return (acc, acc_op)\n"
   ]
  },
  {
   "cell_type": "code",
   "execution_count": 32,
   "metadata": {},
   "outputs": [],
   "source": [
    "def get_conf_mat(output, y):\n",
    "    conf_mat = tf.confusion_matrix(labels=tf.argmax(y, 1), predictions=tf.argmax(output,1))\n",
    "    return conf_mat"
   ]
  },
  {
   "cell_type": "code",
   "execution_count": 33,
   "metadata": {},
   "outputs": [],
   "source": [
    "# meriPlast = pd.read_csv(\"./meriPlastData.csv\")\n",
    "# meri_test = meriPlast[['ct']].values\n",
    "# meri_gExp = meriPlast.drop('ct', axis=1).values\n",
    "# meri_labels = enc.transform(meri_test)\n",
    "# meri_gExp.shape"
   ]
  },
  {
   "cell_type": "code",
   "execution_count": 34,
   "metadata": {},
   "outputs": [
    {
     "data": {
      "text/plain": [
       "(108, 1177)"
      ]
     },
     "execution_count": 34,
     "metadata": {},
     "output_type": "execute_result"
    }
   ],
   "source": [
    "# Y_test\n",
    "# Features_test\n",
    "\n",
    "meri_test = Y_test[np.where(Y_test[:,0]==\"Meristem\")][:]\n",
    "meri_gExp = Features_test[np.where(Y_test[:,0]==\"Meristem\")][:]\n",
    "meri_labels = enc.transform(meri_test)\n",
    "meri_gExp.shape"
   ]
  },
  {
   "cell_type": "code",
   "execution_count": 35,
   "metadata": {},
   "outputs": [
    {
     "data": {
      "text/plain": [
       "(436, 1177)"
      ]
     },
     "execution_count": 35,
     "metadata": {},
     "output_type": "execute_result"
    }
   ],
   "source": [
    "doubPlast = pd.read_csv(\"./doublets.csv\")\n",
    "doub_test = doubPlast[['ct']].values\n",
    "doub_gExp = doubPlast.drop('ct', axis=1).values\n",
    "doub_labels = enc.transform(doub_test)\n",
    "doub_gExp.shape"
   ]
  },
  {
   "cell_type": "code",
   "execution_count": null,
   "metadata": {
    "scrolled": true
   },
   "outputs": [],
   "source": [
    "accuracies = []\n",
    "# Run TensorFlow --\n",
    "with tf.Graph().as_default():\n",
    "    # Input data with 'number_of_inputs' variables\n",
    "    x = tf.placeholder(\"float\", [None, number_of_inputs])\n",
    "    # Output classes\n",
    "    y = tf.placeholder(\"float\", [None, number_of_outputs])\n",
    "    output = inference(x)\n",
    "    cost = loss(output, y)\n",
    "    global_step = tf.Variable(0, name='global_step', trainable=False)\n",
    "    train_op = training(cost, global_step)\n",
    "    eval_op = evaluate(output, y)\n",
    "    evalpc_op = evaluate_pc(output, y)\n",
    "    get_conf_mat_op = get_conf_mat(output, y)\n",
    "    \n",
    "    # Collect all summary statistics that have been logged\n",
    "    summary_op = tf.summary.merge_all()\n",
    "    # Save the model parameters using train.Saver() that keeps the latest 5\n",
    "    # check points, which can be restored for future use\n",
    "    saver = tf.train.Saver()\n",
    "    sess = tf.Session()\n",
    "    \n",
    "    # write summary statistics to disk\n",
    "    summary_writer = tf.summary.FileWriter(\"logs/\", graph=sess.graph)\n",
    "    \n",
    "    init_op = tf.global_variables_initializer()\n",
    "    sess.run(init_op)\n",
    "    sess.run(tf.local_variables_initializer())\n",
    "    \n",
    "    # Training cycle\n",
    "    for epoch in range(training_epochs):\n",
    "        avg_cost = 0\n",
    "        total_batch = int(num_examples/batch_size)\n",
    "        # Loop over all batches\n",
    "        shuffle_vec = np.random.permutation(num_examples)\n",
    "        Features_train = Features_train[shuffle_vec]\n",
    "        Labels_train = Labels_train[shuffle_vec]\n",
    "        for i in range(total_batch):\n",
    "            mbfrom, mbto = ((i-1)*batch_size, i*batch_size)\n",
    "            mbatch_x, mbatch_y = (Features_train[mbfrom:mbto, :], Labels_train[mbfrom:mbto, :])\n",
    "            # Fit training using batch data\n",
    "            feed_dict = {x: mbatch_x, y: mbatch_y}\n",
    "            sess.run(train_op, feed_dict=feed_dict)\n",
    "            # Compute average loss\n",
    "            minibatch_cost = sess.run(cost, feed_dict=feed_dict)\n",
    "            avg_cost += minibatch_cost/total_batch\n",
    "        # Display logs per epoch step\n",
    "        if epoch % display_step == 0:\n",
    "            val_feed_dict = {x: Features_validation[:,:], y: Labels_validation[:,:]}\n",
    "            accuracy = sess.run(eval_op, feed_dict=val_feed_dict)\n",
    "            print(\"Epoch: \", epoch)\n",
    "            print(\"Validation Error:\", (1 - accuracy))\n",
    "            print(\"Accuracy:\", accuracy)\n",
    "            accuracies.append(accuracy)\n",
    "            summary_str = sess.run(summary_op, feed_dict=feed_dict)\n",
    "            summary_writer.add_summary(summary_str, sess.run(global_step))\n",
    "            saver.save(sess, \"logs/model-checkpoint\", global_step=global_step)\n",
    "    print(\"Optimization Finished!\")\n",
    "    test_feed_dict = {x: Features_test[:,:], y: Labels_test[:,:]}\n",
    "    accuracy = sess.run(eval_op, feed_dict=test_feed_dict)\n",
    "    print(\"Test Accuarcy:\", accuracy)\n",
    "    acc, acc_op = sess.run(evalpc_op, feed_dict=test_feed_dict)\n",
    "    print([acc, acc_op])\n",
    "    cm = sess.run(get_conf_mat_op, feed_dict=test_feed_dict)\n",
    "    print(cm)\n",
    "    \n",
    "    test_feed_dict_2 = {x: meri_gExp[:,:], y: meri_labels[:,:]}\n",
    "    accuracy_2 = sess.run(eval_op, feed_dict=test_feed_dict_2)\n",
    "    print(\"Test Accuarcy on Meristematic data:\", accuracy_2)\n",
    "    acc_2, acc_op_2 = sess.run(evalpc_op, feed_dict=test_feed_dict_2)\n",
    "    print([acc_2, acc_op_2])\n",
    "    cm_2 = sess.run(get_conf_mat_op, feed_dict=test_feed_dict_2)\n",
    "    print(cm_2)\n",
    "\n",
    "    test_feed_dict_3 = {x: doub_gExp[:,:], y: doub_labels[:,:]}\n",
    "    accuracy_3 = sess.run(eval_op, feed_dict=test_feed_dict_3)\n",
    "    print(\"Test Accuarcy on Doublet data:\", accuracy_3)\n",
    "    acc_3, acc_op_3 = sess.run(evalpc_op, feed_dict=test_feed_dict_3)\n",
    "    print([acc_3, acc_op_3])\n",
    "    cm_3 = sess.run(get_conf_mat_op, feed_dict=test_feed_dict_3)\n",
    "    print(cm_3)\n",
    "    "
   ]
  },
  {
   "cell_type": "code",
   "execution_count": 37,
   "metadata": {
    "scrolled": false
   },
   "outputs": [
    {
     "data": {
      "application/javascript": "/* Put everything inside the global mpl namespace */\nwindow.mpl = {};\n\n\nmpl.get_websocket_type = function() {\n    if (typeof(WebSocket) !== 'undefined') {\n        return WebSocket;\n    } else if (typeof(MozWebSocket) !== 'undefined') {\n        return MozWebSocket;\n    } else {\n        alert('Your browser does not have WebSocket support. ' +\n              'Please try Chrome, Safari or Firefox ≥ 6. ' +\n              'Firefox 4 and 5 are also supported but you ' +\n              'have to enable WebSockets in about:config.');\n    };\n}\n\nmpl.figure = function(figure_id, websocket, ondownload, parent_element) {\n    this.id = figure_id;\n\n    this.ws = websocket;\n\n    this.supports_binary = (this.ws.binaryType != undefined);\n\n    if (!this.supports_binary) {\n        var warnings = document.getElementById(\"mpl-warnings\");\n        if (warnings) {\n            warnings.style.display = 'block';\n            warnings.textContent = (\n                \"This browser does not support binary websocket messages. \" +\n                    \"Performance may be slow.\");\n        }\n    }\n\n    this.imageObj = new Image();\n\n    this.context = undefined;\n    this.message = undefined;\n    this.canvas = undefined;\n    this.rubberband_canvas = undefined;\n    this.rubberband_context = undefined;\n    this.format_dropdown = undefined;\n\n    this.image_mode = 'full';\n\n    this.root = $('<div/>');\n    this._root_extra_style(this.root)\n    this.root.attr('style', 'display: inline-block');\n\n    $(parent_element).append(this.root);\n\n    this._init_header(this);\n    this._init_canvas(this);\n    this._init_toolbar(this);\n\n    var fig = this;\n\n    this.waiting = false;\n\n    this.ws.onopen =  function () {\n            fig.send_message(\"supports_binary\", {value: fig.supports_binary});\n            fig.send_message(\"send_image_mode\", {});\n            if (mpl.ratio != 1) {\n                fig.send_message(\"set_dpi_ratio\", {'dpi_ratio': mpl.ratio});\n            }\n            fig.send_message(\"refresh\", {});\n        }\n\n    this.imageObj.onload = function() {\n            if (fig.image_mode == 'full') {\n                // Full images could contain transparency (where diff images\n                // almost always do), so we need to clear the canvas so that\n                // there is no ghosting.\n                fig.context.clearRect(0, 0, fig.canvas.width, fig.canvas.height);\n            }\n            fig.context.drawImage(fig.imageObj, 0, 0);\n        };\n\n    this.imageObj.onunload = function() {\n        fig.ws.close();\n    }\n\n    this.ws.onmessage = this._make_on_message_function(this);\n\n    this.ondownload = ondownload;\n}\n\nmpl.figure.prototype._init_header = function() {\n    var titlebar = $(\n        '<div class=\"ui-dialog-titlebar ui-widget-header ui-corner-all ' +\n        'ui-helper-clearfix\"/>');\n    var titletext = $(\n        '<div class=\"ui-dialog-title\" style=\"width: 100%; ' +\n        'text-align: center; padding: 3px;\"/>');\n    titlebar.append(titletext)\n    this.root.append(titlebar);\n    this.header = titletext[0];\n}\n\n\n\nmpl.figure.prototype._canvas_extra_style = function(canvas_div) {\n\n}\n\n\nmpl.figure.prototype._root_extra_style = function(canvas_div) {\n\n}\n\nmpl.figure.prototype._init_canvas = function() {\n    var fig = this;\n\n    var canvas_div = $('<div/>');\n\n    canvas_div.attr('style', 'position: relative; clear: both; outline: 0');\n\n    function canvas_keyboard_event(event) {\n        return fig.key_event(event, event['data']);\n    }\n\n    canvas_div.keydown('key_press', canvas_keyboard_event);\n    canvas_div.keyup('key_release', canvas_keyboard_event);\n    this.canvas_div = canvas_div\n    this._canvas_extra_style(canvas_div)\n    this.root.append(canvas_div);\n\n    var canvas = $('<canvas/>');\n    canvas.addClass('mpl-canvas');\n    canvas.attr('style', \"left: 0; top: 0; z-index: 0; outline: 0\")\n\n    this.canvas = canvas[0];\n    this.context = canvas[0].getContext(\"2d\");\n\n    var backingStore = this.context.backingStorePixelRatio ||\n\tthis.context.webkitBackingStorePixelRatio ||\n\tthis.context.mozBackingStorePixelRatio ||\n\tthis.context.msBackingStorePixelRatio ||\n\tthis.context.oBackingStorePixelRatio ||\n\tthis.context.backingStorePixelRatio || 1;\n\n    mpl.ratio = (window.devicePixelRatio || 1) / backingStore;\n\n    var rubberband = $('<canvas/>');\n    rubberband.attr('style', \"position: absolute; left: 0; top: 0; z-index: 1;\")\n\n    var pass_mouse_events = true;\n\n    canvas_div.resizable({\n        start: function(event, ui) {\n            pass_mouse_events = false;\n        },\n        resize: function(event, ui) {\n            fig.request_resize(ui.size.width, ui.size.height);\n        },\n        stop: function(event, ui) {\n            pass_mouse_events = true;\n            fig.request_resize(ui.size.width, ui.size.height);\n        },\n    });\n\n    function mouse_event_fn(event) {\n        if (pass_mouse_events)\n            return fig.mouse_event(event, event['data']);\n    }\n\n    rubberband.mousedown('button_press', mouse_event_fn);\n    rubberband.mouseup('button_release', mouse_event_fn);\n    // Throttle sequential mouse events to 1 every 20ms.\n    rubberband.mousemove('motion_notify', mouse_event_fn);\n\n    rubberband.mouseenter('figure_enter', mouse_event_fn);\n    rubberband.mouseleave('figure_leave', mouse_event_fn);\n\n    canvas_div.on(\"wheel\", function (event) {\n        event = event.originalEvent;\n        event['data'] = 'scroll'\n        if (event.deltaY < 0) {\n            event.step = 1;\n        } else {\n            event.step = -1;\n        }\n        mouse_event_fn(event);\n    });\n\n    canvas_div.append(canvas);\n    canvas_div.append(rubberband);\n\n    this.rubberband = rubberband;\n    this.rubberband_canvas = rubberband[0];\n    this.rubberband_context = rubberband[0].getContext(\"2d\");\n    this.rubberband_context.strokeStyle = \"#000000\";\n\n    this._resize_canvas = function(width, height) {\n        // Keep the size of the canvas, canvas container, and rubber band\n        // canvas in synch.\n        canvas_div.css('width', width)\n        canvas_div.css('height', height)\n\n        canvas.attr('width', width * mpl.ratio);\n        canvas.attr('height', height * mpl.ratio);\n        canvas.attr('style', 'width: ' + width + 'px; height: ' + height + 'px;');\n\n        rubberband.attr('width', width);\n        rubberband.attr('height', height);\n    }\n\n    // Set the figure to an initial 600x600px, this will subsequently be updated\n    // upon first draw.\n    this._resize_canvas(600, 600);\n\n    // Disable right mouse context menu.\n    $(this.rubberband_canvas).bind(\"contextmenu\",function(e){\n        return false;\n    });\n\n    function set_focus () {\n        canvas.focus();\n        canvas_div.focus();\n    }\n\n    window.setTimeout(set_focus, 100);\n}\n\nmpl.figure.prototype._init_toolbar = function() {\n    var fig = this;\n\n    var nav_element = $('<div/>');\n    nav_element.attr('style', 'width: 100%');\n    this.root.append(nav_element);\n\n    // Define a callback function for later on.\n    function toolbar_event(event) {\n        return fig.toolbar_button_onclick(event['data']);\n    }\n    function toolbar_mouse_event(event) {\n        return fig.toolbar_button_onmouseover(event['data']);\n    }\n\n    for(var toolbar_ind in mpl.toolbar_items) {\n        var name = mpl.toolbar_items[toolbar_ind][0];\n        var tooltip = mpl.toolbar_items[toolbar_ind][1];\n        var image = mpl.toolbar_items[toolbar_ind][2];\n        var method_name = mpl.toolbar_items[toolbar_ind][3];\n\n        if (!name) {\n            // put a spacer in here.\n            continue;\n        }\n        var button = $('<button/>');\n        button.addClass('ui-button ui-widget ui-state-default ui-corner-all ' +\n                        'ui-button-icon-only');\n        button.attr('role', 'button');\n        button.attr('aria-disabled', 'false');\n        button.click(method_name, toolbar_event);\n        button.mouseover(tooltip, toolbar_mouse_event);\n\n        var icon_img = $('<span/>');\n        icon_img.addClass('ui-button-icon-primary ui-icon');\n        icon_img.addClass(image);\n        icon_img.addClass('ui-corner-all');\n\n        var tooltip_span = $('<span/>');\n        tooltip_span.addClass('ui-button-text');\n        tooltip_span.html(tooltip);\n\n        button.append(icon_img);\n        button.append(tooltip_span);\n\n        nav_element.append(button);\n    }\n\n    var fmt_picker_span = $('<span/>');\n\n    var fmt_picker = $('<select/>');\n    fmt_picker.addClass('mpl-toolbar-option ui-widget ui-widget-content');\n    fmt_picker_span.append(fmt_picker);\n    nav_element.append(fmt_picker_span);\n    this.format_dropdown = fmt_picker[0];\n\n    for (var ind in mpl.extensions) {\n        var fmt = mpl.extensions[ind];\n        var option = $(\n            '<option/>', {selected: fmt === mpl.default_extension}).html(fmt);\n        fmt_picker.append(option);\n    }\n\n    // Add hover states to the ui-buttons\n    $( \".ui-button\" ).hover(\n        function() { $(this).addClass(\"ui-state-hover\");},\n        function() { $(this).removeClass(\"ui-state-hover\");}\n    );\n\n    var status_bar = $('<span class=\"mpl-message\"/>');\n    nav_element.append(status_bar);\n    this.message = status_bar[0];\n}\n\nmpl.figure.prototype.request_resize = function(x_pixels, y_pixels) {\n    // Request matplotlib to resize the figure. Matplotlib will then trigger a resize in the client,\n    // which will in turn request a refresh of the image.\n    this.send_message('resize', {'width': x_pixels, 'height': y_pixels});\n}\n\nmpl.figure.prototype.send_message = function(type, properties) {\n    properties['type'] = type;\n    properties['figure_id'] = this.id;\n    this.ws.send(JSON.stringify(properties));\n}\n\nmpl.figure.prototype.send_draw_message = function() {\n    if (!this.waiting) {\n        this.waiting = true;\n        this.ws.send(JSON.stringify({type: \"draw\", figure_id: this.id}));\n    }\n}\n\n\nmpl.figure.prototype.handle_save = function(fig, msg) {\n    var format_dropdown = fig.format_dropdown;\n    var format = format_dropdown.options[format_dropdown.selectedIndex].value;\n    fig.ondownload(fig, format);\n}\n\n\nmpl.figure.prototype.handle_resize = function(fig, msg) {\n    var size = msg['size'];\n    if (size[0] != fig.canvas.width || size[1] != fig.canvas.height) {\n        fig._resize_canvas(size[0], size[1]);\n        fig.send_message(\"refresh\", {});\n    };\n}\n\nmpl.figure.prototype.handle_rubberband = function(fig, msg) {\n    var x0 = msg['x0'] / mpl.ratio;\n    var y0 = (fig.canvas.height - msg['y0']) / mpl.ratio;\n    var x1 = msg['x1'] / mpl.ratio;\n    var y1 = (fig.canvas.height - msg['y1']) / mpl.ratio;\n    x0 = Math.floor(x0) + 0.5;\n    y0 = Math.floor(y0) + 0.5;\n    x1 = Math.floor(x1) + 0.5;\n    y1 = Math.floor(y1) + 0.5;\n    var min_x = Math.min(x0, x1);\n    var min_y = Math.min(y0, y1);\n    var width = Math.abs(x1 - x0);\n    var height = Math.abs(y1 - y0);\n\n    fig.rubberband_context.clearRect(\n        0, 0, fig.canvas.width / mpl.ratio, fig.canvas.height / mpl.ratio);\n\n    fig.rubberband_context.strokeRect(min_x, min_y, width, height);\n}\n\nmpl.figure.prototype.handle_figure_label = function(fig, msg) {\n    // Updates the figure title.\n    fig.header.textContent = msg['label'];\n}\n\nmpl.figure.prototype.handle_cursor = function(fig, msg) {\n    var cursor = msg['cursor'];\n    switch(cursor)\n    {\n    case 0:\n        cursor = 'pointer';\n        break;\n    case 1:\n        cursor = 'default';\n        break;\n    case 2:\n        cursor = 'crosshair';\n        break;\n    case 3:\n        cursor = 'move';\n        break;\n    }\n    fig.rubberband_canvas.style.cursor = cursor;\n}\n\nmpl.figure.prototype.handle_message = function(fig, msg) {\n    fig.message.textContent = msg['message'];\n}\n\nmpl.figure.prototype.handle_draw = function(fig, msg) {\n    // Request the server to send over a new figure.\n    fig.send_draw_message();\n}\n\nmpl.figure.prototype.handle_image_mode = function(fig, msg) {\n    fig.image_mode = msg['mode'];\n}\n\nmpl.figure.prototype.updated_canvas_event = function() {\n    // Called whenever the canvas gets updated.\n    this.send_message(\"ack\", {});\n}\n\n// A function to construct a web socket function for onmessage handling.\n// Called in the figure constructor.\nmpl.figure.prototype._make_on_message_function = function(fig) {\n    return function socket_on_message(evt) {\n        if (evt.data instanceof Blob) {\n            /* FIXME: We get \"Resource interpreted as Image but\n             * transferred with MIME type text/plain:\" errors on\n             * Chrome.  But how to set the MIME type?  It doesn't seem\n             * to be part of the websocket stream */\n            evt.data.type = \"image/png\";\n\n            /* Free the memory for the previous frames */\n            if (fig.imageObj.src) {\n                (window.URL || window.webkitURL).revokeObjectURL(\n                    fig.imageObj.src);\n            }\n\n            fig.imageObj.src = (window.URL || window.webkitURL).createObjectURL(\n                evt.data);\n            fig.updated_canvas_event();\n            fig.waiting = false;\n            return;\n        }\n        else if (typeof evt.data === 'string' && evt.data.slice(0, 21) == \"data:image/png;base64\") {\n            fig.imageObj.src = evt.data;\n            fig.updated_canvas_event();\n            fig.waiting = false;\n            return;\n        }\n\n        var msg = JSON.parse(evt.data);\n        var msg_type = msg['type'];\n\n        // Call the  \"handle_{type}\" callback, which takes\n        // the figure and JSON message as its only arguments.\n        try {\n            var callback = fig[\"handle_\" + msg_type];\n        } catch (e) {\n            console.log(\"No handler for the '\" + msg_type + \"' message type: \", msg);\n            return;\n        }\n\n        if (callback) {\n            try {\n                // console.log(\"Handling '\" + msg_type + \"' message: \", msg);\n                callback(fig, msg);\n            } catch (e) {\n                console.log(\"Exception inside the 'handler_\" + msg_type + \"' callback:\", e, e.stack, msg);\n            }\n        }\n    };\n}\n\n// from http://stackoverflow.com/questions/1114465/getting-mouse-location-in-canvas\nmpl.findpos = function(e) {\n    //this section is from http://www.quirksmode.org/js/events_properties.html\n    var targ;\n    if (!e)\n        e = window.event;\n    if (e.target)\n        targ = e.target;\n    else if (e.srcElement)\n        targ = e.srcElement;\n    if (targ.nodeType == 3) // defeat Safari bug\n        targ = targ.parentNode;\n\n    // jQuery normalizes the pageX and pageY\n    // pageX,Y are the mouse positions relative to the document\n    // offset() returns the position of the element relative to the document\n    var x = e.pageX - $(targ).offset().left;\n    var y = e.pageY - $(targ).offset().top;\n\n    return {\"x\": x, \"y\": y};\n};\n\n/*\n * return a copy of an object with only non-object keys\n * we need this to avoid circular references\n * http://stackoverflow.com/a/24161582/3208463\n */\nfunction simpleKeys (original) {\n  return Object.keys(original).reduce(function (obj, key) {\n    if (typeof original[key] !== 'object')\n        obj[key] = original[key]\n    return obj;\n  }, {});\n}\n\nmpl.figure.prototype.mouse_event = function(event, name) {\n    var canvas_pos = mpl.findpos(event)\n\n    if (name === 'button_press')\n    {\n        this.canvas.focus();\n        this.canvas_div.focus();\n    }\n\n    var x = canvas_pos.x * mpl.ratio;\n    var y = canvas_pos.y * mpl.ratio;\n\n    this.send_message(name, {x: x, y: y, button: event.button,\n                             step: event.step,\n                             guiEvent: simpleKeys(event)});\n\n    /* This prevents the web browser from automatically changing to\n     * the text insertion cursor when the button is pressed.  We want\n     * to control all of the cursor setting manually through the\n     * 'cursor' event from matplotlib */\n    event.preventDefault();\n    return false;\n}\n\nmpl.figure.prototype._key_event_extra = function(event, name) {\n    // Handle any extra behaviour associated with a key event\n}\n\nmpl.figure.prototype.key_event = function(event, name) {\n\n    // Prevent repeat events\n    if (name == 'key_press')\n    {\n        if (event.which === this._key)\n            return;\n        else\n            this._key = event.which;\n    }\n    if (name == 'key_release')\n        this._key = null;\n\n    var value = '';\n    if (event.ctrlKey && event.which != 17)\n        value += \"ctrl+\";\n    if (event.altKey && event.which != 18)\n        value += \"alt+\";\n    if (event.shiftKey && event.which != 16)\n        value += \"shift+\";\n\n    value += 'k';\n    value += event.which.toString();\n\n    this._key_event_extra(event, name);\n\n    this.send_message(name, {key: value,\n                             guiEvent: simpleKeys(event)});\n    return false;\n}\n\nmpl.figure.prototype.toolbar_button_onclick = function(name) {\n    if (name == 'download') {\n        this.handle_save(this, null);\n    } else {\n        this.send_message(\"toolbar_button\", {name: name});\n    }\n};\n\nmpl.figure.prototype.toolbar_button_onmouseover = function(tooltip) {\n    this.message.textContent = tooltip;\n};\nmpl.toolbar_items = [[\"Home\", \"Reset original view\", \"fa fa-home icon-home\", \"home\"], [\"Back\", \"Back to previous view\", \"fa fa-arrow-left icon-arrow-left\", \"back\"], [\"Forward\", \"Forward to next view\", \"fa fa-arrow-right icon-arrow-right\", \"forward\"], [\"\", \"\", \"\", \"\"], [\"Pan\", \"Pan axes with left mouse, zoom with right\", \"fa fa-arrows icon-move\", \"pan\"], [\"Zoom\", \"Zoom to rectangle\", \"fa fa-square-o icon-check-empty\", \"zoom\"], [\"\", \"\", \"\", \"\"], [\"Download\", \"Download plot\", \"fa fa-floppy-o icon-save\", \"download\"]];\n\nmpl.extensions = [\"eps\", \"jpeg\", \"pdf\", \"png\", \"ps\", \"raw\", \"svg\", \"tif\"];\n\nmpl.default_extension = \"png\";var comm_websocket_adapter = function(comm) {\n    // Create a \"websocket\"-like object which calls the given IPython comm\n    // object with the appropriate methods. Currently this is a non binary\n    // socket, so there is still some room for performance tuning.\n    var ws = {};\n\n    ws.close = function() {\n        comm.close()\n    };\n    ws.send = function(m) {\n        //console.log('sending', m);\n        comm.send(m);\n    };\n    // Register the callback with on_msg.\n    comm.on_msg(function(msg) {\n        //console.log('receiving', msg['content']['data'], msg);\n        // Pass the mpl event to the overridden (by mpl) onmessage function.\n        ws.onmessage(msg['content']['data'])\n    });\n    return ws;\n}\n\nmpl.mpl_figure_comm = function(comm, msg) {\n    // This is the function which gets called when the mpl process\n    // starts-up an IPython Comm through the \"matplotlib\" channel.\n\n    var id = msg.content.data.id;\n    // Get hold of the div created by the display call when the Comm\n    // socket was opened in Python.\n    var element = $(\"#\" + id);\n    var ws_proxy = comm_websocket_adapter(comm)\n\n    function ondownload(figure, format) {\n        window.open(figure.imageObj.src);\n    }\n\n    var fig = new mpl.figure(id, ws_proxy,\n                           ondownload,\n                           element.get(0));\n\n    // Call onopen now - mpl needs it, as it is assuming we've passed it a real\n    // web socket which is closed, not our websocket->open comm proxy.\n    ws_proxy.onopen();\n\n    fig.parent_element = element.get(0);\n    fig.cell_info = mpl.find_output_cell(\"<div id='\" + id + \"'></div>\");\n    if (!fig.cell_info) {\n        console.error(\"Failed to find cell for figure\", id, fig);\n        return;\n    }\n\n    var output_index = fig.cell_info[2]\n    var cell = fig.cell_info[0];\n\n};\n\nmpl.figure.prototype.handle_close = function(fig, msg) {\n    var width = fig.canvas.width/mpl.ratio\n    fig.root.unbind('remove')\n\n    // Update the output cell to use the data from the current canvas.\n    fig.push_to_output();\n    var dataURL = fig.canvas.toDataURL();\n    // Re-enable the keyboard manager in IPython - without this line, in FF,\n    // the notebook keyboard shortcuts fail.\n    IPython.keyboard_manager.enable()\n    $(fig.parent_element).html('<img src=\"' + dataURL + '\" width=\"' + width + '\">');\n    fig.close_ws(fig, msg);\n}\n\nmpl.figure.prototype.close_ws = function(fig, msg){\n    fig.send_message('closing', msg);\n    // fig.ws.close()\n}\n\nmpl.figure.prototype.push_to_output = function(remove_interactive) {\n    // Turn the data on the canvas into data in the output cell.\n    var width = this.canvas.width/mpl.ratio\n    var dataURL = this.canvas.toDataURL();\n    this.cell_info[1]['text/html'] = '<img src=\"' + dataURL + '\" width=\"' + width + '\">';\n}\n\nmpl.figure.prototype.updated_canvas_event = function() {\n    // Tell IPython that the notebook contents must change.\n    IPython.notebook.set_dirty(true);\n    this.send_message(\"ack\", {});\n    var fig = this;\n    // Wait a second, then push the new image to the DOM so\n    // that it is saved nicely (might be nice to debounce this).\n    setTimeout(function () { fig.push_to_output() }, 1000);\n}\n\nmpl.figure.prototype._init_toolbar = function() {\n    var fig = this;\n\n    var nav_element = $('<div/>');\n    nav_element.attr('style', 'width: 100%');\n    this.root.append(nav_element);\n\n    // Define a callback function for later on.\n    function toolbar_event(event) {\n        return fig.toolbar_button_onclick(event['data']);\n    }\n    function toolbar_mouse_event(event) {\n        return fig.toolbar_button_onmouseover(event['data']);\n    }\n\n    for(var toolbar_ind in mpl.toolbar_items){\n        var name = mpl.toolbar_items[toolbar_ind][0];\n        var tooltip = mpl.toolbar_items[toolbar_ind][1];\n        var image = mpl.toolbar_items[toolbar_ind][2];\n        var method_name = mpl.toolbar_items[toolbar_ind][3];\n\n        if (!name) { continue; };\n\n        var button = $('<button class=\"btn btn-default\" href=\"#\" title=\"' + name + '\"><i class=\"fa ' + image + ' fa-lg\"></i></button>');\n        button.click(method_name, toolbar_event);\n        button.mouseover(tooltip, toolbar_mouse_event);\n        nav_element.append(button);\n    }\n\n    // Add the status bar.\n    var status_bar = $('<span class=\"mpl-message\" style=\"text-align:right; float: right;\"/>');\n    nav_element.append(status_bar);\n    this.message = status_bar[0];\n\n    // Add the close button to the window.\n    var buttongrp = $('<div class=\"btn-group inline pull-right\"></div>');\n    var button = $('<button class=\"btn btn-mini btn-primary\" href=\"#\" title=\"Stop Interaction\"><i class=\"fa fa-power-off icon-remove icon-large\"></i></button>');\n    button.click(function (evt) { fig.handle_close(fig, {}); } );\n    button.mouseover('Stop Interaction', toolbar_mouse_event);\n    buttongrp.append(button);\n    var titlebar = this.root.find($('.ui-dialog-titlebar'));\n    titlebar.prepend(buttongrp);\n}\n\nmpl.figure.prototype._root_extra_style = function(el){\n    var fig = this\n    el.on(\"remove\", function(){\n\tfig.close_ws(fig, {});\n    });\n}\n\nmpl.figure.prototype._canvas_extra_style = function(el){\n    // this is important to make the div 'focusable\n    el.attr('tabindex', 0)\n    // reach out to IPython and tell the keyboard manager to turn it's self\n    // off when our div gets focus\n\n    // location in version 3\n    if (IPython.notebook.keyboard_manager) {\n        IPython.notebook.keyboard_manager.register_events(el);\n    }\n    else {\n        // location in version 2\n        IPython.keyboard_manager.register_events(el);\n    }\n\n}\n\nmpl.figure.prototype._key_event_extra = function(event, name) {\n    var manager = IPython.notebook.keyboard_manager;\n    if (!manager)\n        manager = IPython.keyboard_manager;\n\n    // Check for shift+enter\n    if (event.shiftKey && event.which == 13) {\n        this.canvas_div.blur();\n        event.shiftKey = false;\n        // Send a \"J\" for go to next cell\n        event.which = 74;\n        event.keyCode = 74;\n        manager.command_mode();\n        manager.handle_keydown(event);\n    }\n}\n\nmpl.figure.prototype.handle_save = function(fig, msg) {\n    fig.ondownload(fig, null);\n}\n\n\nmpl.find_output_cell = function(html_output) {\n    // Return the cell and output element which can be found *uniquely* in the notebook.\n    // Note - this is a bit hacky, but it is done because the \"notebook_saving.Notebook\"\n    // IPython event is triggered only after the cells have been serialised, which for\n    // our purposes (turning an active figure into a static one), is too late.\n    var cells = IPython.notebook.get_cells();\n    var ncells = cells.length;\n    for (var i=0; i<ncells; i++) {\n        var cell = cells[i];\n        if (cell.cell_type === 'code'){\n            for (var j=0; j<cell.output_area.outputs.length; j++) {\n                var data = cell.output_area.outputs[j];\n                if (data.data) {\n                    // IPython >= 3 moved mimebundle to data attribute of output\n                    data = data.data;\n                }\n                if (data['text/html'] == html_output) {\n                    return [cell, data, j];\n                }\n            }\n        }\n    }\n}\n\n// Register the function which deals with the matplotlib target/channel.\n// The kernel may be null if the page has been refreshed.\nif (IPython.notebook.kernel != null) {\n    IPython.notebook.kernel.comm_manager.register_target('matplotlib', mpl.mpl_figure_comm);\n}\n",
      "text/plain": [
       "<IPython.core.display.Javascript object>"
      ]
     },
     "metadata": {},
     "output_type": "display_data"
    },
    {
     "data": {
      "text/html": [
       "<img src=\"data:image/png;base64,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\" width=\"639.2593044181615\">"
      ],
      "text/plain": [
       "<IPython.core.display.HTML object>"
      ]
     },
     "metadata": {},
     "output_type": "display_data"
    },
    {
     "data": {
      "text/plain": [
       "Text(0, 0.5, 'Accuracy')"
      ]
     },
     "execution_count": 37,
     "metadata": {},
     "output_type": "execute_result"
    }
   ],
   "source": [
    "%matplotlib notebook\n",
    "x=list(range(1,5001))\n",
    "y=[i * 100 for i in accuracies]\n",
    "fig=plt.figure()\n",
    "# plt.plot(x, y, marker='o', color = 'blue')\n",
    "ax=fig.add_axes([0,0,1,1])\n",
    "ax.plot(x, y, '-ok', color = 'blue')\n",
    "ax.set_title(\"Accuracy progression through 50 Epochs\")\n",
    "ax.set_xlabel('Epoch')\n",
    "ax.set_ylabel('Accuracy')"
   ]
  },
  {
   "cell_type": "code",
   "execution_count": null,
   "metadata": {},
   "outputs": [],
   "source": []
  },
  {
   "cell_type": "code",
   "execution_count": null,
   "metadata": {},
   "outputs": [],
   "source": []
  },
  {
   "cell_type": "code",
   "execution_count": null,
   "metadata": {},
   "outputs": [],
   "source": []
  }
 ],
 "metadata": {
  "kernelspec": {
   "display_name": "Python 3.6 (tensorflow)",
   "language": "python",
   "name": "tensorflow"
  },
  "language_info": {
   "codemirror_mode": {
    "name": "ipython",
    "version": 3
   },
   "file_extension": ".py",
   "mimetype": "text/x-python",
   "name": "python",
   "nbconvert_exporter": "python",
   "pygments_lexer": "ipython3",
   "version": "3.6.9"
  }
 },
 "nbformat": 4,
 "nbformat_minor": 2
}
