{
 "cells": [
  {
   "cell_type": "code",
   "execution_count": 1,
   "metadata": {
    "scrolled": true
   },
   "outputs": [
    {
     "name": "stdout",
     "output_type": "stream",
     "text": [
      "1.14.0\n"
     ]
    }
   ],
   "source": [
    "import os \n",
    "import tensorflow as tf\n",
    "import pandas as pd\n",
    "import numpy as np\n",
    "from sklearn.preprocessing import MinMaxScaler\n",
    "from tensorflow import keras\n",
    "import matplotlib.pyplot as plt\n",
    "from tensorflow import feature_column\n",
    "from sklearn.model_selection import train_test_split\n",
    "from tensorflow.keras import layers\n",
    "print(tf.__version__)"
   ]
  },
  {
   "cell_type": "code",
   "execution_count": 2,
   "metadata": {},
   "outputs": [],
   "source": [
    "# A utility method to create a tf.data dataset from a Pandas Dataframe\n",
    "def df_to_dataset(dataframe, shuffle=True, batch_size=32):\n",
    "  dataframe = dataframe.copy()\n",
    "  labels = dataframe.pop('target')\n",
    "  ds = tf.data.Dataset.from_tensor_slices((dict(dataframe), labels))\n",
    "  if shuffle:\n",
    "    ds = ds.shuffle(buffer_size=len(dataframe))\n",
    "  ds = ds.batch(batch_size)\n",
    "  return ds\n",
    "\n",
    "def unique(list1): \n",
    "  \n",
    "    # intilize a null list \n",
    "    unique_list = [] \n",
    "      \n",
    "    # traverse for all elements \n",
    "    for x in list1: \n",
    "        # check if exists in unique_list or not \n",
    "        if x not in unique_list: \n",
    "            unique_list.append(x) \n",
    "    # print list \n",
    "    for x in unique_list: \n",
    "        print(x)"
   ]
  },
  {
   "cell_type": "code",
   "execution_count": 3,
   "metadata": {},
   "outputs": [
    {
     "data": {
      "text/html": [
       "<div>\n",
       "<style scoped>\n",
       "    .dataframe tbody tr th:only-of-type {\n",
       "        vertical-align: middle;\n",
       "    }\n",
       "\n",
       "    .dataframe tbody tr th {\n",
       "        vertical-align: top;\n",
       "    }\n",
       "\n",
       "    .dataframe thead th {\n",
       "        text-align: right;\n",
       "    }\n",
       "</style>\n",
       "<table border=\"1\" class=\"dataframe\">\n",
       "  <thead>\n",
       "    <tr style=\"text-align: right;\">\n",
       "      <th></th>\n",
       "      <th>target</th>\n",
       "      <th>C</th>\n",
       "      <th>D</th>\n",
       "      <th>E</th>\n",
       "      <th>F</th>\n",
       "      <th>G</th>\n",
       "      <th>H</th>\n",
       "      <th>I</th>\n",
       "      <th>J</th>\n",
       "      <th>K</th>\n",
       "      <th>...</th>\n",
       "      <th>ASD</th>\n",
       "      <th>ASE</th>\n",
       "      <th>ASF</th>\n",
       "      <th>ASG</th>\n",
       "      <th>ASH</th>\n",
       "      <th>ASI</th>\n",
       "      <th>ASJ</th>\n",
       "      <th>ASK</th>\n",
       "      <th>ASL</th>\n",
       "      <th>ASM</th>\n",
       "    </tr>\n",
       "  </thead>\n",
       "  <tbody>\n",
       "    <tr>\n",
       "      <td>0</td>\n",
       "      <td>Stele</td>\n",
       "      <td>-0.258602</td>\n",
       "      <td>-0.330743</td>\n",
       "      <td>-0.369920</td>\n",
       "      <td>-0.318300</td>\n",
       "      <td>4.276812</td>\n",
       "      <td>1.027151</td>\n",
       "      <td>0.517398</td>\n",
       "      <td>-0.736007</td>\n",
       "      <td>-0.632255</td>\n",
       "      <td>...</td>\n",
       "      <td>0.645462</td>\n",
       "      <td>-0.252019</td>\n",
       "      <td>-0.146278</td>\n",
       "      <td>-0.075060</td>\n",
       "      <td>-0.034928</td>\n",
       "      <td>-0.183443</td>\n",
       "      <td>-0.083272</td>\n",
       "      <td>-0.046208</td>\n",
       "      <td>-0.104284</td>\n",
       "      <td>3.003427</td>\n",
       "    </tr>\n",
       "    <tr>\n",
       "      <td>1</td>\n",
       "      <td>Stele</td>\n",
       "      <td>-0.191696</td>\n",
       "      <td>0.511507</td>\n",
       "      <td>-0.283618</td>\n",
       "      <td>-0.236304</td>\n",
       "      <td>-0.247256</td>\n",
       "      <td>-0.622487</td>\n",
       "      <td>-0.047162</td>\n",
       "      <td>-0.592980</td>\n",
       "      <td>1.226199</td>\n",
       "      <td>...</td>\n",
       "      <td>-0.467602</td>\n",
       "      <td>-0.191643</td>\n",
       "      <td>-0.110144</td>\n",
       "      <td>-0.054311</td>\n",
       "      <td>-0.024493</td>\n",
       "      <td>-0.136469</td>\n",
       "      <td>-0.062023</td>\n",
       "      <td>-0.033389</td>\n",
       "      <td>-0.077612</td>\n",
       "      <td>1.994303</td>\n",
       "    </tr>\n",
       "    <tr>\n",
       "      <td>2</td>\n",
       "      <td>Non Hair Cells</td>\n",
       "      <td>-0.224581</td>\n",
       "      <td>3.531181</td>\n",
       "      <td>-0.326190</td>\n",
       "      <td>-0.276710</td>\n",
       "      <td>2.466134</td>\n",
       "      <td>-0.700523</td>\n",
       "      <td>0.352002</td>\n",
       "      <td>-0.665129</td>\n",
       "      <td>-0.565071</td>\n",
       "      <td>...</td>\n",
       "      <td>-0.532635</td>\n",
       "      <td>-0.221292</td>\n",
       "      <td>-0.127831</td>\n",
       "      <td>-0.064473</td>\n",
       "      <td>-0.029600</td>\n",
       "      <td>-0.159485</td>\n",
       "      <td>-0.072430</td>\n",
       "      <td>-0.039657</td>\n",
       "      <td>-0.090676</td>\n",
       "      <td>-0.567264</td>\n",
       "    </tr>\n",
       "    <tr>\n",
       "      <td>3</td>\n",
       "      <td>Stele</td>\n",
       "      <td>-0.183703</td>\n",
       "      <td>-1.167774</td>\n",
       "      <td>-0.273234</td>\n",
       "      <td>-0.226459</td>\n",
       "      <td>-0.237216</td>\n",
       "      <td>0.830474</td>\n",
       "      <td>-0.869091</td>\n",
       "      <td>-0.574942</td>\n",
       "      <td>-0.480348</td>\n",
       "      <td>...</td>\n",
       "      <td>1.478974</td>\n",
       "      <td>-0.184443</td>\n",
       "      <td>-0.105859</td>\n",
       "      <td>-0.051844</td>\n",
       "      <td>-0.023252</td>\n",
       "      <td>6.277999</td>\n",
       "      <td>-0.059496</td>\n",
       "      <td>-0.031867</td>\n",
       "      <td>-0.074442</td>\n",
       "      <td>3.029316</td>\n",
       "    </tr>\n",
       "    <tr>\n",
       "      <td>4</td>\n",
       "      <td>Endodermis</td>\n",
       "      <td>-0.156269</td>\n",
       "      <td>-0.316606</td>\n",
       "      <td>-0.237501</td>\n",
       "      <td>-0.192605</td>\n",
       "      <td>-0.202682</td>\n",
       "      <td>-0.533415</td>\n",
       "      <td>-0.783387</td>\n",
       "      <td>1.465650</td>\n",
       "      <td>-0.421330</td>\n",
       "      <td>...</td>\n",
       "      <td>-0.395155</td>\n",
       "      <td>-0.159747</td>\n",
       "      <td>-0.091178</td>\n",
       "      <td>-0.043366</td>\n",
       "      <td>-0.018970</td>\n",
       "      <td>-0.111792</td>\n",
       "      <td>-0.050813</td>\n",
       "      <td>-0.026631</td>\n",
       "      <td>-0.063555</td>\n",
       "      <td>0.046629</td>\n",
       "    </tr>\n",
       "  </tbody>\n",
       "</table>\n",
       "<p>5 rows × 1182 columns</p>\n",
       "</div>"
      ],
      "text/plain": [
       "           target         C         D         E         F         G         H  \\\n",
       "0           Stele -0.258602 -0.330743 -0.369920 -0.318300  4.276812  1.027151   \n",
       "1           Stele -0.191696  0.511507 -0.283618 -0.236304 -0.247256 -0.622487   \n",
       "2  Non Hair Cells -0.224581  3.531181 -0.326190 -0.276710  2.466134 -0.700523   \n",
       "3           Stele -0.183703 -1.167774 -0.273234 -0.226459 -0.237216  0.830474   \n",
       "4      Endodermis -0.156269 -0.316606 -0.237501 -0.192605 -0.202682 -0.533415   \n",
       "\n",
       "          I         J         K  ...       ASD       ASE       ASF       ASG  \\\n",
       "0  0.517398 -0.736007 -0.632255  ...  0.645462 -0.252019 -0.146278 -0.075060   \n",
       "1 -0.047162 -0.592980  1.226199  ... -0.467602 -0.191643 -0.110144 -0.054311   \n",
       "2  0.352002 -0.665129 -0.565071  ... -0.532635 -0.221292 -0.127831 -0.064473   \n",
       "3 -0.869091 -0.574942 -0.480348  ...  1.478974 -0.184443 -0.105859 -0.051844   \n",
       "4 -0.783387  1.465650 -0.421330  ... -0.395155 -0.159747 -0.091178 -0.043366   \n",
       "\n",
       "        ASH       ASI       ASJ       ASK       ASL       ASM  \n",
       "0 -0.034928 -0.183443 -0.083272 -0.046208 -0.104284  3.003427  \n",
       "1 -0.024493 -0.136469 -0.062023 -0.033389 -0.077612  1.994303  \n",
       "2 -0.029600 -0.159485 -0.072430 -0.039657 -0.090676 -0.567264  \n",
       "3 -0.023252  6.277999 -0.059496 -0.031867 -0.074442  3.029316  \n",
       "4 -0.018970 -0.111792 -0.050813 -0.026631 -0.063555  0.046629  \n",
       "\n",
       "[5 rows x 1182 columns]"
      ]
     },
     "execution_count": 3,
     "metadata": {},
     "output_type": "execute_result"
    }
   ],
   "source": [
    "plastML = pd.read_csv(\"/home/ahmad/scRNA-seqAnalysis/plastMLscopenames.csv\")\n",
    "plastML = plastML.drop(\"Unnamed: 0\", axis=1)\n",
    "plastML.rename(columns={'ct': 'target'}, inplace = True)\n",
    "plastML.head()"
   ]
  },
  {
   "cell_type": "code",
   "execution_count": 4,
   "metadata": {},
   "outputs": [
    {
     "name": "stdout",
     "output_type": "stream",
     "text": [
      "Stele\n",
      "Non Hair Cells\n",
      "Endodermis\n",
      "Phloem\n",
      "Hair Cells\n",
      "Meristem\n",
      "Root Cap Cells\n",
      "Xylem\n",
      "Cortex\n"
     ]
    }
   ],
   "source": [
    "plastML.shape\n",
    "unique(plastML.target)"
   ]
  },
  {
   "cell_type": "code",
   "execution_count": 5,
   "metadata": {},
   "outputs": [
    {
     "data": {
      "text/html": [
       "<div>\n",
       "<style scoped>\n",
       "    .dataframe tbody tr th:only-of-type {\n",
       "        vertical-align: middle;\n",
       "    }\n",
       "\n",
       "    .dataframe tbody tr th {\n",
       "        vertical-align: top;\n",
       "    }\n",
       "\n",
       "    .dataframe thead th {\n",
       "        text-align: right;\n",
       "    }\n",
       "</style>\n",
       "<table border=\"1\" class=\"dataframe\">\n",
       "  <thead>\n",
       "    <tr style=\"text-align: right;\">\n",
       "      <th></th>\n",
       "      <th>target</th>\n",
       "      <th>C</th>\n",
       "      <th>D</th>\n",
       "      <th>E</th>\n",
       "      <th>F</th>\n",
       "      <th>G</th>\n",
       "      <th>H</th>\n",
       "      <th>I</th>\n",
       "      <th>J</th>\n",
       "      <th>K</th>\n",
       "      <th>...</th>\n",
       "      <th>ASD</th>\n",
       "      <th>ASE</th>\n",
       "      <th>ASF</th>\n",
       "      <th>ASG</th>\n",
       "      <th>ASH</th>\n",
       "      <th>ASI</th>\n",
       "      <th>ASJ</th>\n",
       "      <th>ASK</th>\n",
       "      <th>ASL</th>\n",
       "      <th>ASM</th>\n",
       "    </tr>\n",
       "  </thead>\n",
       "  <tbody>\n",
       "    <tr>\n",
       "      <td>0</td>\n",
       "      <td>7</td>\n",
       "      <td>-0.258602</td>\n",
       "      <td>-0.330743</td>\n",
       "      <td>-0.369920</td>\n",
       "      <td>-0.318300</td>\n",
       "      <td>4.276812</td>\n",
       "      <td>1.027151</td>\n",
       "      <td>0.517398</td>\n",
       "      <td>-0.736007</td>\n",
       "      <td>-0.632255</td>\n",
       "      <td>...</td>\n",
       "      <td>0.645462</td>\n",
       "      <td>-0.252019</td>\n",
       "      <td>-0.146278</td>\n",
       "      <td>-0.075060</td>\n",
       "      <td>-0.034928</td>\n",
       "      <td>-0.183443</td>\n",
       "      <td>-0.083272</td>\n",
       "      <td>-0.046208</td>\n",
       "      <td>-0.104284</td>\n",
       "      <td>3.003427</td>\n",
       "    </tr>\n",
       "    <tr>\n",
       "      <td>1</td>\n",
       "      <td>7</td>\n",
       "      <td>-0.191696</td>\n",
       "      <td>0.511507</td>\n",
       "      <td>-0.283618</td>\n",
       "      <td>-0.236304</td>\n",
       "      <td>-0.247256</td>\n",
       "      <td>-0.622487</td>\n",
       "      <td>-0.047162</td>\n",
       "      <td>-0.592980</td>\n",
       "      <td>1.226199</td>\n",
       "      <td>...</td>\n",
       "      <td>-0.467602</td>\n",
       "      <td>-0.191643</td>\n",
       "      <td>-0.110144</td>\n",
       "      <td>-0.054311</td>\n",
       "      <td>-0.024493</td>\n",
       "      <td>-0.136469</td>\n",
       "      <td>-0.062023</td>\n",
       "      <td>-0.033389</td>\n",
       "      <td>-0.077612</td>\n",
       "      <td>1.994303</td>\n",
       "    </tr>\n",
       "    <tr>\n",
       "      <td>2</td>\n",
       "      <td>4</td>\n",
       "      <td>-0.224581</td>\n",
       "      <td>3.531181</td>\n",
       "      <td>-0.326190</td>\n",
       "      <td>-0.276710</td>\n",
       "      <td>2.466134</td>\n",
       "      <td>-0.700523</td>\n",
       "      <td>0.352002</td>\n",
       "      <td>-0.665129</td>\n",
       "      <td>-0.565071</td>\n",
       "      <td>...</td>\n",
       "      <td>-0.532635</td>\n",
       "      <td>-0.221292</td>\n",
       "      <td>-0.127831</td>\n",
       "      <td>-0.064473</td>\n",
       "      <td>-0.029600</td>\n",
       "      <td>-0.159485</td>\n",
       "      <td>-0.072430</td>\n",
       "      <td>-0.039657</td>\n",
       "      <td>-0.090676</td>\n",
       "      <td>-0.567264</td>\n",
       "    </tr>\n",
       "    <tr>\n",
       "      <td>3</td>\n",
       "      <td>7</td>\n",
       "      <td>-0.183703</td>\n",
       "      <td>-1.167774</td>\n",
       "      <td>-0.273234</td>\n",
       "      <td>-0.226459</td>\n",
       "      <td>-0.237216</td>\n",
       "      <td>0.830474</td>\n",
       "      <td>-0.869091</td>\n",
       "      <td>-0.574942</td>\n",
       "      <td>-0.480348</td>\n",
       "      <td>...</td>\n",
       "      <td>1.478974</td>\n",
       "      <td>-0.184443</td>\n",
       "      <td>-0.105859</td>\n",
       "      <td>-0.051844</td>\n",
       "      <td>-0.023252</td>\n",
       "      <td>6.277999</td>\n",
       "      <td>-0.059496</td>\n",
       "      <td>-0.031867</td>\n",
       "      <td>-0.074442</td>\n",
       "      <td>3.029316</td>\n",
       "    </tr>\n",
       "    <tr>\n",
       "      <td>4</td>\n",
       "      <td>1</td>\n",
       "      <td>-0.156269</td>\n",
       "      <td>-0.316606</td>\n",
       "      <td>-0.237501</td>\n",
       "      <td>-0.192605</td>\n",
       "      <td>-0.202682</td>\n",
       "      <td>-0.533415</td>\n",
       "      <td>-0.783387</td>\n",
       "      <td>1.465650</td>\n",
       "      <td>-0.421330</td>\n",
       "      <td>...</td>\n",
       "      <td>-0.395155</td>\n",
       "      <td>-0.159747</td>\n",
       "      <td>-0.091178</td>\n",
       "      <td>-0.043366</td>\n",
       "      <td>-0.018970</td>\n",
       "      <td>-0.111792</td>\n",
       "      <td>-0.050813</td>\n",
       "      <td>-0.026631</td>\n",
       "      <td>-0.063555</td>\n",
       "      <td>0.046629</td>\n",
       "    </tr>\n",
       "  </tbody>\n",
       "</table>\n",
       "<p>5 rows × 1182 columns</p>\n",
       "</div>"
      ],
      "text/plain": [
       "   target         C         D         E         F         G         H  \\\n",
       "0       7 -0.258602 -0.330743 -0.369920 -0.318300  4.276812  1.027151   \n",
       "1       7 -0.191696  0.511507 -0.283618 -0.236304 -0.247256 -0.622487   \n",
       "2       4 -0.224581  3.531181 -0.326190 -0.276710  2.466134 -0.700523   \n",
       "3       7 -0.183703 -1.167774 -0.273234 -0.226459 -0.237216  0.830474   \n",
       "4       1 -0.156269 -0.316606 -0.237501 -0.192605 -0.202682 -0.533415   \n",
       "\n",
       "          I         J         K  ...       ASD       ASE       ASF       ASG  \\\n",
       "0  0.517398 -0.736007 -0.632255  ...  0.645462 -0.252019 -0.146278 -0.075060   \n",
       "1 -0.047162 -0.592980  1.226199  ... -0.467602 -0.191643 -0.110144 -0.054311   \n",
       "2  0.352002 -0.665129 -0.565071  ... -0.532635 -0.221292 -0.127831 -0.064473   \n",
       "3 -0.869091 -0.574942 -0.480348  ...  1.478974 -0.184443 -0.105859 -0.051844   \n",
       "4 -0.783387  1.465650 -0.421330  ... -0.395155 -0.159747 -0.091178 -0.043366   \n",
       "\n",
       "        ASH       ASI       ASJ       ASK       ASL       ASM  \n",
       "0 -0.034928 -0.183443 -0.083272 -0.046208 -0.104284  3.003427  \n",
       "1 -0.024493 -0.136469 -0.062023 -0.033389 -0.077612  1.994303  \n",
       "2 -0.029600 -0.159485 -0.072430 -0.039657 -0.090676 -0.567264  \n",
       "3 -0.023252  6.277999 -0.059496 -0.031867 -0.074442  3.029316  \n",
       "4 -0.018970 -0.111792 -0.050813 -0.026631 -0.063555  0.046629  \n",
       "\n",
       "[5 rows x 1182 columns]"
      ]
     },
     "execution_count": 5,
     "metadata": {},
     "output_type": "execute_result"
    }
   ],
   "source": [
    "plastML.dtypes\n",
    "plastML['target'] = pd.Categorical(plastML['target'])\n",
    "plastML['target'] = plastML.target.cat.codes\n",
    "plastML.head()\n",
    "\n",
    "# for target: \n",
    "# 1 is endodermis\n",
    "# 2 is hair cells\n",
    "# 3 is meristem\n",
    "# 4 is non hair cells\n",
    "# 5 is phloem\n",
    "# 6 is root cap cells\n",
    "# 7 is stele\n",
    "# 8 is xylem\n",
    "# 9 is cortex"
   ]
  },
  {
   "cell_type": "code",
   "execution_count": 6,
   "metadata": {},
   "outputs": [
    {
     "name": "stdout",
     "output_type": "stream",
     "text": [
      "4805 train examples\n",
      "1202 validation examples\n",
      "1502 test examples\n"
     ]
    }
   ],
   "source": [
    "train, test = train_test_split(plastML, test_size=0.2)\n",
    "train, val = train_test_split(train, test_size=0.2)\n",
    "print(len(train), 'train examples')\n",
    "print(len(val), 'validation examples')\n",
    "print(len(test), 'test examples')"
   ]
  },
  {
   "cell_type": "code",
   "execution_count": 7,
   "metadata": {
    "scrolled": true
   },
   "outputs": [
    {
     "data": {
      "text/plain": [
       "(4805, 1182)"
      ]
     },
     "execution_count": 7,
     "metadata": {},
     "output_type": "execute_result"
    }
   ],
   "source": [
    "train.head()\n",
    "train.shape"
   ]
  },
  {
   "cell_type": "code",
   "execution_count": 8,
   "metadata": {},
   "outputs": [
    {
     "data": {
      "text/plain": [
       "Index(['C', 'D', 'E', 'F', 'G', 'H', 'I', 'J', 'K', 'L',\n",
       "       ...\n",
       "       'ASD', 'ASE', 'ASF', 'ASG', 'ASH', 'ASI', 'ASJ', 'ASK', 'ASL', 'ASM'],\n",
       "      dtype='object', length=1181)"
      ]
     },
     "execution_count": 8,
     "metadata": {},
     "output_type": "execute_result"
    }
   ],
   "source": [
    "col = train.columns[1:1182,]\n",
    "col"
   ]
  },
  {
   "cell_type": "code",
   "execution_count": 9,
   "metadata": {},
   "outputs": [
    {
     "data": {
      "text/plain": [
       "1181"
      ]
     },
     "execution_count": 9,
     "metadata": {},
     "output_type": "execute_result"
    }
   ],
   "source": [
    "feature_columns = []\n",
    "for header in col:\n",
    "  feature_columns.append(feature_column.numeric_column(header))\n",
    "len(feature_columns)"
   ]
  },
  {
   "cell_type": "code",
   "execution_count": 10,
   "metadata": {},
   "outputs": [],
   "source": [
    "feature_layer = tf.keras.layers.DenseFeatures(feature_columns)"
   ]
  },
  {
   "cell_type": "code",
   "execution_count": 11,
   "metadata": {},
   "outputs": [],
   "source": [
    "batch_size = 500\n",
    "train_ds = df_to_dataset(train, batch_size=batch_size)\n",
    "val_ds = df_to_dataset(val, shuffle=False, batch_size=batch_size)\n",
    "test_ds = df_to_dataset(test, shuffle=False, batch_size=batch_size)"
   ]
  },
  {
   "cell_type": "code",
   "execution_count": 12,
   "metadata": {},
   "outputs": [
    {
     "name": "stdout",
     "output_type": "stream",
     "text": [
      "WARNING:tensorflow:From /home/ahmad/anaconda3/envs/tensorflow/lib/python3.6/site-packages/tensorflow/python/ops/init_ops.py:1251: calling VarianceScaling.__init__ (from tensorflow.python.ops.init_ops) with dtype is deprecated and will be removed in a future version.\n",
      "Instructions for updating:\n",
      "Call initializer instance with the dtype argument instead of passing it to the constructor\n"
     ]
    }
   ],
   "source": [
    "model = tf.keras.Sequential([\n",
    "    feature_layer,\n",
    "    layers.Dense(300, activation= 'relu'),\n",
    "    layers.Dense(100, activation='relu'),\n",
    "    layers.Dense(50, activation='relu'),\n",
    "    layers.Dense(5, activation='softmax')\n",
    "])"
   ]
  },
  {
   "cell_type": "code",
   "execution_count": 13,
   "metadata": {},
   "outputs": [],
   "source": [
    "model.compile(optimizer='adam',\n",
    "              loss='binary_crossentropy',\n",
    "              metrics=['accuracy'])"
   ]
  },
  {
   "cell_type": "code",
   "execution_count": 14,
   "metadata": {
    "scrolled": false
   },
   "outputs": [
    {
     "name": "stdout",
     "output_type": "stream",
     "text": [
      "WARNING:tensorflow:From /home/ahmad/anaconda3/envs/tensorflow/lib/python3.6/site-packages/tensorflow/python/ops/math_grad.py:1250: add_dispatch_support.<locals>.wrapper (from tensorflow.python.ops.array_ops) is deprecated and will be removed in a future version.\n",
      "Instructions for updating:\n",
      "Use tf.where in 2.0, which has the same broadcast rule as np.where\n",
      "Epoch 1/5\n",
      "10/10 [==============================] - 23s 2s/step - loss: 5.9949 - acc: 0.0699\n",
      "Epoch 2/5\n",
      "10/10 [==============================] - 8s 788ms/step - loss: 5.7075 - acc: 0.0701\n",
      "Epoch 3/5\n",
      "10/10 [==============================] - 6s 551ms/step - loss: 5.6697 - acc: 0.0701\n",
      "Epoch 4/5\n",
      "10/10 [==============================] - 6s 640ms/step - loss: 5.6487 - acc: 0.0701\n",
      "Epoch 5/5\n",
      "10/10 [==============================] - 8s 774ms/step - loss: 5.6630 - acc: 0.0701\n"
     ]
    },
    {
     "data": {
      "text/plain": [
       "<tensorflow.python.keras.callbacks.History at 0x7efe8e8e0e80>"
      ]
     },
     "execution_count": 14,
     "metadata": {},
     "output_type": "execute_result"
    }
   ],
   "source": [
    "model.fit(train_ds,\n",
    "          epochs=5)"
   ]
  },
  {
   "cell_type": "code",
   "execution_count": 16,
   "metadata": {},
   "outputs": [
    {
     "name": "stdout",
     "output_type": "stream",
     "text": [
      "4/4 [==============================] - 15s 4s/step - loss: 5.5647 - acc: 0.0752\n",
      "Accuracy 0.07523302\n"
     ]
    }
   ],
   "source": [
    "loss, accuracy = model.evaluate(test_ds)\n",
    "print(\"Accuracy\", accuracy)"
   ]
  }
 ],
 "metadata": {
  "kernelspec": {
   "display_name": "Python 3.6 (tensorflow)",
   "language": "python",
   "name": "tensorflow"
  },
  "language_info": {
   "codemirror_mode": {
    "name": "ipython",
    "version": 3
   },
   "file_extension": ".py",
   "mimetype": "text/x-python",
   "name": "python",
   "nbconvert_exporter": "python",
   "pygments_lexer": "ipython3",
   "version": "3.6.9"
  }
 },
 "nbformat": 4,
 "nbformat_minor": 2
}
